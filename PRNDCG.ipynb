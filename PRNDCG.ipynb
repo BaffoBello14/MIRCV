{
 "cells": [
  {
   "cell_type": "markdown",
   "metadata": {},
   "source": [
    "# Analisi dei Dati di Ranking e Recall\n",
    "\n",
    "Questo notebook è dedicato all'analisi dei dati di ranking e recall relativi al progetto MIRCV. Esamina le prestazioni del sistema di ranking sviluppato, utilizzando dati estratti dai file di testo. Le seguenti funzioni personalizzate sono utilizzate per leggere, processare e preparare i dati per un'analisi dettagliata.\n",
    "\n",
    "## Struttura del Notebook\n",
    "- **Funzioni di Lettura**: Definiscono il metodo di lettura dei dati da file di testo e la loro organizzazione in strutture di dati utili.\n",
    "- **Caricamento Dati**: Carica i dati di ranking e recall da file specifici per l'analisi.\n",
    "- **Accesso e Analisi dei Dati**: Visualizza e analizza parti specifiche dei dati per ottenere insights iniziali sulle prestazioni del sistema di ranking."
   ]
  },
  {
   "cell_type": "code",
   "execution_count": null,
   "metadata": {},
   "outputs": [],
   "source": [
    "import os"
   ]
  },
  {
   "cell_type": "code",
   "execution_count": null,
   "metadata": {},
   "outputs": [],
   "source": [
    "# Funzioni di Lettura\n",
    "\n",
    "# read_data: Legge i dati di ranking da un file e li organizza in un dizionario\n",
    "def read_data(file_path):\n",
    "    \"\"\"Legge i dati di ranking da un file.\n",
    "\n",
    "    Args:\n",
    "        file_path (str): Percorso del file da leggere.\n",
    "\n",
    "    Returns:\n",
    "        dict: Dizionario contenente i dati di ranking.\n",
    "    \"\"\"\n",
    "    system_ranking = {}\n",
    "    with open(file_path, 'r') as file:\n",
    "        for line in file:\n",
    "            parts = line.strip().split()\n",
    "            qid, doc_id, relevance = parts[0], str(int(parts[2])), int(parts[3])\n",
    "            if qid not in system_ranking:\n",
    "                system_ranking[qid] = []\n",
    "            system_ranking[qid].append((doc_id, relevance))\n",
    "        \n",
    "    return system_ranking\n",
    "\n",
    "# read_data_recall_base: Legge i dati di recall base da un file e li organizza in un dizionario\n",
    "def read_data_recall_base(file_path):\n",
    "    \"\"\"Legge i dati di recall base da un file.\n",
    "\n",
    "    Args:\n",
    "        file_path (str): Percorso del file da leggere.\n",
    "\n",
    "    Returns:\n",
    "        dict: Dizionario contenente i dati di recall base.\n",
    "    \"\"\"\n",
    "    recalls = {}\n",
    "    with open(file_path, 'r') as file:\n",
    "        for line in file:\n",
    "            parts = line.strip().split()\n",
    "            qid, base = parts[0], int(parts[1])\n",
    "            if qid not in recalls:\n",
    "                recalls[qid] = {}\n",
    "            recalls[qid] = base\n",
    "\n",
    "    return recalls"
   ]
  },
  {
   "cell_type": "code",
   "execution_count": null,
   "metadata": {},
   "outputs": [],
   "source": [
    "def calculate_map(system_ranking, recall_bases):\n",
    "    map_scores = []\n",
    "\n",
    "    for query in system_ranking:\n",
    "        num = 0\n",
    "        count = 0\n",
    "        relevants = 1\n",
    "\n",
    "        for element in system_ranking[query]:\n",
    "            if count != 10:\n",
    "                if element[1] > 0:\n",
    "                    num += relevants / (count + 1)\n",
    "                    relevants += 1\n",
    "                count += 1\n",
    "        \n",
    "        rb = recall_bases[query]\n",
    "\n",
    "        ap = num / rb\n",
    "        map_scores.append(ap)\n",
    "        print(f\"AP {query}: {ap}\")\n",
    "\n",
    "    map = sum(map_scores) / len(map_scores)\n",
    "    print(f\"MAP: {map}\")"
   ]
  },
  {
   "cell_type": "code",
   "execution_count": null,
   "metadata": {},
   "outputs": [],
   "source": [
    "def calculate_mrr(system_ranking):\n",
    "    mrr_scores = []\n",
    "    for query in system_ranking:\n",
    "        count = 0\n",
    "\n",
    "        for element in system_ranking[query]:\n",
    "            if element[1] > 0:\n",
    "                rr = 1 / (count + 1)\n",
    "                mrr_scores.append(rr)\n",
    "                print(f\"RR {query}: {rr}\")\n",
    "                break\n",
    "            if count == 9:\n",
    "                mrr_scores.append(0)\n",
    "                print(f\"RR {query}: 0\")\n",
    "                break\n",
    "            count += 1\n",
    "        \n",
    "    mrr = sum(mrr_scores) / len(mrr_scores)\n",
    "    print(f\"MRR: {mrr}\")"
   ]
  },
  {
   "cell_type": "code",
   "execution_count": null,
   "metadata": {},
   "outputs": [],
   "source": [
    "# Caricamento Dati\n",
    "\n",
    "# Caricamento dei dati di ranking e recall dai file specificati\n",
    "system_rank_file = \"./relevance_file/DAATBM25withRelevance.txt\"\n",
    "recall_base_file = \"./qrel_file/id_counts.txt\"\n",
    "\n",
    "# Utilizzo delle funzioni di lettura per caricare i dati\n",
    "system_ranking = read_data(system_rank_file)\n",
    "recall_bases = read_data_recall_base(recall_base_file)"
   ]
  },
  {
   "cell_type": "code",
   "execution_count": null,
   "metadata": {},
   "outputs": [],
   "source": [
    "# Accesso e Analisi dei Dati\n",
    "\n",
    "# Accesso a un elemento specifico del dizionario system_ranking per l'analisi\n",
    "sample_query_id = '19335'\n",
    "sample_ranking_data = system_ranking[sample_query_id][0][0]\n",
    "\n",
    "# Output: Visualizzazione dei dati di ranking per la query specifica\n",
    "print(f\"Dati di Ranking per la Query {sample_query_id}: {sample_ranking_data}\")"
   ]
  },
  {
   "cell_type": "code",
   "execution_count": null,
   "metadata": {},
   "outputs": [],
   "source": [
    "folder_path = \"relevance_file\"\n",
    "\n",
    "for filename in os.listdir(folder_path):\n",
    "    if filename.endswith(\".txt\"):\n",
    "        path = os.path.join(folder_path, filename)\n",
    "        \n",
    "        system_ranking = read_data(path)\n",
    "        calculate_map(system_ranking, recall_bases)"
   ]
  },
  {
   "cell_type": "code",
   "execution_count": null,
   "metadata": {},
   "outputs": [],
   "source": [
    "folder_path = \"relevance_file\"\n",
    "\n",
    "for filename in os.listdir(folder_path):\n",
    "    if filename.endswith(\".txt\"):\n",
    "        path = os.path.join(folder_path, filename)\n",
    "        \n",
    "        system_ranking = read_data(path)\n",
    "        calculate_mrr(system_ranking)"
   ]
  }
 ],
 "metadata": {
  "kernelspec": {
   "display_name": "MIRCV",
   "language": "python",
   "name": "python3"
  },
  "language_info": {
   "codemirror_mode": {
    "name": "ipython",
    "version": 3
   },
   "file_extension": ".py",
   "mimetype": "text/x-python",
   "name": "python",
   "nbconvert_exporter": "python",
   "pygments_lexer": "ipython3",
   "version": "3.11.5"
  }
 },
 "nbformat": 4,
 "nbformat_minor": 2
}
