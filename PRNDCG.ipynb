{
 "cells": [
  {
   "cell_type": "code",
   "execution_count": 18,
   "metadata": {},
   "outputs": [],
   "source": [
    "def read_data(file_path):\n",
    "    system_ranking={}\n",
    "    with open(file_path,'r') as file:\n",
    "        for line in file:\n",
    "            parts=line.strip().split()\n",
    "            qid,doc_id,relevance=parts[0],str(int(parts[2])),int(parts[3])\n",
    "            if qid not in system_ranking:\n",
    "                system_ranking[qid]=[]\n",
    "            system_ranking[qid].append((doc_id,relevance))\n",
    "        \n",
    "    return system_ranking\n",
    "\n",
    "\n",
    "def read_data_recall_base(file_path):\n",
    "    recalls={}\n",
    "    with open(file_path,'r') as file:\n",
    "        for line in file:\n",
    "            parts=line.strip().split()\n",
    "            qid,base=parts[0],int(parts[1])\n",
    "            if qid not in recalls:\n",
    "                recalls[qid]={}\n",
    "            recalls[qid]=base\n",
    "\n",
    "    return recalls\n"
   ]
  },
  {
   "cell_type": "code",
   "execution_count": 19,
   "metadata": {},
   "outputs": [],
   "source": [
    "system_rank_file=\"./relevance_file/DAATBM25withRelevance.txt\"\n",
    "recall_base_file=\"./qrel_file/id_counts.txt\"\n",
    "system_ranking=read_data(system_rank_file)\n",
    "recall_bases=read_data_recall_base(recall_base_file)\n"
   ]
  },
  {
   "cell_type": "code",
   "execution_count": 20,
   "metadata": {},
   "outputs": [
    {
     "data": {
      "text/plain": [
       "'8412684'"
      ]
     },
     "execution_count": 20,
     "metadata": {},
     "output_type": "execute_result"
    }
   ],
   "source": [
    "system_ranking['19335'][0][0]\n",
    "\n",
    "\n",
    "    "
   ]
  }
 ],
 "metadata": {
  "kernelspec": {
   "display_name": "MIRCV",
   "language": "python",
   "name": "python3"
  },
  "language_info": {
   "codemirror_mode": {
    "name": "ipython",
    "version": 3
   },
   "file_extension": ".py",
   "mimetype": "text/x-python",
   "name": "python",
   "nbconvert_exporter": "python",
   "pygments_lexer": "ipython3",
   "version": "3.11.5"
  }
 },
 "nbformat": 4,
 "nbformat_minor": 2
}
