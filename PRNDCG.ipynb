{
 "cells": [
  {
   "cell_type": "markdown",
   "metadata": {},
   "source": [
    "# Ranking and Recall Data Analysis\n",
    "\n",
    "This notebook is dedicated to the analysis of ranking and recall data related to the MIRCV project. It examines the performance of the developed ranking system using data extracted from text files. The following custom functions are used to read, process, and prepare the data for detailed analysis.\n",
    "\n",
    "## Notebook Structure\n",
    "- **Reading Functions**:  Define the method for reading data from text files and organizing them into useful data structures.\n",
    "- **Data Loading**: Loads ranking and recall data from specific files for analysis.\n",
    "- **Data Access and Analysis**: Displays and analyzes specific parts of the data to gain initial insights into the performance of the ranking system."
   ]
  },
  {
   "cell_type": "code",
   "execution_count": null,
   "metadata": {},
   "outputs": [],
   "source": [
    "import os"
   ]
  },
  {
   "cell_type": "code",
   "execution_count": null,
   "metadata": {},
   "outputs": [],
   "source": [
    "# Reading Functions\n",
    "\n",
    "# read_data: Reads ranking data from a file and organizes it into a dictionary\n",
    "def read_data(file_path):\n",
    "    \"\"\"Reads ranking data from a file.\n",
    "\n",
    "    Args:\n",
    "        file_path (str): Path of the file to read.\n",
    "\n",
    "    Returns:\n",
    "        dict: Dictionary containing the ranking data.\n",
    "    \"\"\"\n",
    "    system_ranking = {}\n",
    "    with open(file_path, 'r') as file:\n",
    "        for line in file:\n",
    "            parts = line.strip().split()\n",
    "            qid, doc_id, relevance = parts[0], str(int(parts[2])), int(parts[3])\n",
    "            if qid not in system_ranking:\n",
    "                system_ranking[qid] = []\n",
    "            system_ranking[qid].append((doc_id, relevance))\n",
    "        \n",
    "    return system_ranking\n",
    "\n",
    "# read_data_recall_base: Reads base recall data from a file and organizes it into a dictionary\n",
    "def read_data_recall_base(file_path):\n",
    "    \"\"\"Reads base recall data from a file.\n",
    "\n",
    "    Args:\n",
    "        file_path (str): Path of the file to read.\n",
    "\n",
    "    Returns:\n",
    "        dict: Dictionary containing the base recall data.\n",
    "    \"\"\"\n",
    "    recalls = {}\n",
    "    with open(file_path, 'r') as file:\n",
    "        for line in file:\n",
    "            parts = line.strip().split()\n",
    "            qid, base = parts[0], int(parts[1])\n",
    "            if qid not in recalls:\n",
    "                recalls[qid] = {}\n",
    "            recalls[qid] = base\n",
    "\n",
    "    return recalls"
   ]
  },
  {
   "cell_type": "code",
   "execution_count": null,
   "metadata": {},
   "outputs": [],
   "source": [
    "def calculate_map(system_ranking, recall_bases):\n",
    "    map_scores = []\n",
    "\n",
    "    for query in system_ranking:\n",
    "        num = 0\n",
    "        count = 0\n",
    "        relevants = 1\n",
    "\n",
    "        for element in system_ranking[query]:\n",
    "            if count != 10:\n",
    "                if element[1] > 0:\n",
    "                    num += relevants / (count + 1)\n",
    "                    relevants += 1\n",
    "                count += 1\n",
    "        \n",
    "        rb = recall_bases[query]\n",
    "\n",
    "        ap = num / rb\n",
    "        map_scores.append(ap)\n",
    "        print(f\"AP {query}: {ap}\")\n",
    "\n",
    "    map = sum(map_scores) / len(map_scores)\n",
    "    print(f\"MAP: {map}\")"
   ]
  },
  {
   "cell_type": "code",
   "execution_count": null,
   "metadata": {},
   "outputs": [],
   "source": [
    "def calculate_mrr(system_ranking):\n",
    "    mrr_scores = []\n",
    "    for query in system_ranking:\n",
    "        count = 0\n",
    "\n",
    "        for element in system_ranking[query]:\n",
    "            if element[1] > 0:\n",
    "                rr = 1 / (count + 1)\n",
    "                mrr_scores.append(rr)\n",
    "                print(f\"RR {query}: {rr}\")\n",
    "                break\n",
    "            if count == 9:\n",
    "                mrr_scores.append(0)\n",
    "                print(f\"RR {query}: 0\")\n",
    "                break\n",
    "            count += 1\n",
    "        \n",
    "    mrr = sum(mrr_scores) / len(mrr_scores)\n",
    "    print(f\"MRR: {mrr}\")"
   ]
  },
  {
   "cell_type": "code",
   "execution_count": null,
   "metadata": {},
   "outputs": [],
   "source": [
    "# Data Loading\n",
    "\n",
    "# Loading ranking and recall data from the specified files\n",
    "system_rank_file = \"./relevance_file/DAATBM25withRelevance.txt\"\n",
    "recall_base_file = \"./qrel_file/id_counts.txt\"\n",
    "\n",
    "# Using reading functions to load the data\n",
    "system_ranking = read_data(system_rank_file)\n",
    "recall_bases = read_data_recall_base(recall_base_file)"
   ]
  },
  {
   "cell_type": "code",
   "execution_count": null,
   "metadata": {},
   "outputs": [],
   "source": [
    "# Data Access and Analysis\n",
    "\n",
    "# Accessing a specific element in the system_ranking dictionary for analysis\n",
    "sample_query_id = '19335'\n",
    "sample_ranking_data = system_ranking[sample_query_id][0][0]\n",
    "\n",
    "# Output: Displaying ranking data for the specific query\n",
    "print(f\"Dati di Ranking per la Query {sample_query_id}: {sample_ranking_data}\")"
   ]
  },
  {
   "cell_type": "code",
   "execution_count": null,
   "metadata": {},
   "outputs": [],
   "source": [
    "folder_path = \"relevance_file\"\n",
    "\n",
    "for filename in os.listdir(folder_path):\n",
    "    if filename.endswith(\".txt\"):\n",
    "        path = os.path.join(folder_path, filename)\n",
    "        \n",
    "        system_ranking = read_data(path)\n",
    "        calculate_map(system_ranking, recall_bases)"
   ]
  },
  {
   "cell_type": "code",
   "execution_count": null,
   "metadata": {},
   "outputs": [],
   "source": [
    "folder_path = \"relevance_file\"\n",
    "\n",
    "for filename in os.listdir(folder_path):\n",
    "    if filename.endswith(\".txt\"):\n",
    "        path = os.path.join(folder_path, filename)\n",
    "        \n",
    "        system_ranking = read_data(path)\n",
    "        calculate_mrr(system_ranking)"
   ]
  }
 ],
 "metadata": {
  "kernelspec": {
   "display_name": "MIRCV",
   "language": "python",
   "name": "python3"
  },
  "language_info": {
   "codemirror_mode": {
    "name": "ipython",
    "version": 3
   },
   "file_extension": ".py",
   "mimetype": "text/x-python",
   "name": "python",
   "nbconvert_exporter": "python",
   "pygments_lexer": "ipython3",
   "version": "3.11.5"
  }
 },
 "nbformat": 4,
 "nbformat_minor": 2
}
